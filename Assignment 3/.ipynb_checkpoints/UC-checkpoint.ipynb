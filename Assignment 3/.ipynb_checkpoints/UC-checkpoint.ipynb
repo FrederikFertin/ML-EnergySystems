{
 "cells": [
  {
   "cell_type": "code",
   "execution_count": 1,
   "id": "afea0309",
   "metadata": {},
   "outputs": [],
   "source": [
    "from collections import defaultdict\n",
    "import numpy as np\n",
    "import gurobipy as grb\n",
    "import pandas as pd"
   ]
  },
  {
   "cell_type": "code",
   "execution_count": 3,
   "id": "3c3a82c5",
   "metadata": {},
   "outputs": [],
   "source": [
    "import pandas as pd\n",
    "\n",
    "pmax = pd.read_csv('./pgmax.csv')\n",
    "pmin = pd.read_csv('./pgmin.csv')\n",
    "ru = pd.read_csv('./ramp.csv')\n",
    "UT = pd.read_csv('./lu.csv')\n",
    "DT = pd.read_csv('./ld.csv')    \n",
    "demand = pd.read_csv('./Demand.csv')   \n",
    "c_op = pd.read_csv('./cost_op.csv') \n",
    "c_st = pd.read_csv('./cost_st.csv') \n",
    "PTDF = pd.read_csv('./PTDF.csv') \n",
    "busgen = pd.read_csv('./busgen.csv')\n",
    "busload = pd.read_csv('./busload.csv')\n",
    "fmax = pd.read_csv('./fmax.csv')\n",
    "\n",
    "\n",
    "PTDF = pd.DataFrame(PTDF)\n",
    "busgen = pd.DataFrame(busgen)\n",
    "busload = pd.DataFrame(busload)\n",
    "demand = pd.DataFrame(demand)\n",
    "\n",
    "\n",
    "# Convert the PTDF and demand string elements to a matrix\n",
    "PTDF_matrix = np.vstack([list(map(float, row[0].split(';'))) for row in PTDF.values])\n",
    "busgen_matrix = np.vstack([list(map(float, row[0].split(';'))) for row in busgen.values])\n",
    "busload_matrix = np.vstack([list(map(float, row[0].split(';'))) for row in busload.values])\n",
    "demand = np.vstack([list(map(float, row[0].split(';'))) for row in demand.values])\n",
    "\n",
    "Hg = np.dot(PTDF_matrix, busgen_matrix)\n",
    "Hl = np.dot(PTDF_matrix, busload_matrix)\n",
    "\n"
   ]
  },
  {
   "cell_type": "code",
   "execution_count": 4,
   "id": "43a3758a",
   "metadata": {},
   "outputs": [
    {
     "name": "stdout",
     "output_type": "stream",
     "text": [
      "Set parameter Username\n",
      "Academic license - for non-commercial use only - expires 2024-04-07\n"
     ]
    }
   ],
   "source": [
    "model = grb.Model()"
   ]
  },
  {
   "cell_type": "code",
   "execution_count": 5,
   "id": "adf074b5",
   "metadata": {},
   "outputs": [],
   "source": [
    "n_g=54\n",
    "n_t=24\n",
    "n_load=91\n",
    "n_line=186\n",
    "# b denotes on/off status and u denotes start start-up status\n",
    "b = model.addVars(n_g, n_t, vtype=grb.GRB.BINARY)\n",
    "u = model.addVars(n_g, n_t, vtype=grb.GRB.BINARY)\n",
    "# how much to produce\n",
    "p = model.addVars(n_g, n_t, vtype=grb.GRB.CONTINUOUS)\n",
    "# slack variables\n",
    "ls = model.addVars(n_t, 1, vtype=grb.GRB.CONTINUOUS)\n",
    "ws = model.addVars(n_t, 1, vtype=grb.GRB.CONTINUOUS)\n",
    "model.update()"
   ]
  },
  {
   "cell_type": "code",
   "execution_count": 6,
   "id": "b9006351",
   "metadata": {},
   "outputs": [],
   "source": [
    "\n",
    "for t in range(n_t):\n",
    "    for j in range(n_g):\n",
    "        model.addConstr(p[j,t] <= pmax.iloc[j].item() *b[j,t])\n",
    "        model.addConstr(p[j,t] >= pmin.iloc[j].item() *b[j,t])\n",
    "        if t >= 1:\n",
    "            model.addConstr(p[j,t]- p[j,t-1] <= ru.iloc[j].item())\n",
    "            model.addConstr(p[j,t-1]- p[j,t] <= ru.iloc[j].item())\n",
    "            model.addConstr(u[j,t] >= b[j,t]-b[j,t-1])"
   ]
  },
  {
   "cell_type": "code",
   "execution_count": 7,
   "id": "8e8c015d",
   "metadata": {},
   "outputs": [],
   "source": [
    "for t in range(n_t):\n",
    "    for j in range(n_g):\n",
    "        if t >= 1:\n",
    "            min_on_time = min(t + UT.iloc[j].item() - 1, n_t)\n",
    "            for tau in range(t, min_on_time):\n",
    "                model.addConstr(b[j, tau] >= b[j, t] - b[j, t - 1])\n",
    "\n",
    "            min_off_time = min(t + DT.iloc[j].item() - 1, n_t)\n",
    "            for tau in range(t, min_off_time):\n",
    "                model.addConstr(1 - b[j, tau] >= b[j, t - 1] - b[j, t])\n"
   ]
  },
  {
   "cell_type": "code",
   "execution_count": 8,
   "id": "b13b3c0c",
   "metadata": {},
   "outputs": [],
   "source": [
    "for t in range(n_t):\n",
    "    model.addConstr(sum(p[j,t] for j in range(n_g)) == sum(demand[t, i] for i in range(n_load)))\n",
    "model.update()"
   ]
  },
  {
   "cell_type": "code",
   "execution_count": 9,
   "id": "fd8d363f",
   "metadata": {},
   "outputs": [
    {
     "ename": "NameError",
     "evalue": "name 'd_vector' is not defined",
     "output_type": "error",
     "traceback": [
      "\u001b[1;31m---------------------------------------------------------------------------\u001b[0m",
      "\u001b[1;31mNameError\u001b[0m                                 Traceback (most recent call last)",
      "\u001b[1;32m~\\AppData\\Local\\Temp/ipykernel_13252/1320604663.py\u001b[0m in \u001b[0;36m<module>\u001b[1;34m\u001b[0m\n\u001b[0;32m      1\u001b[0m \u001b[1;32mfor\u001b[0m \u001b[0mt\u001b[0m \u001b[1;32min\u001b[0m \u001b[0mrange\u001b[0m\u001b[1;33m(\u001b[0m\u001b[0mn_t\u001b[0m\u001b[1;33m)\u001b[0m\u001b[1;33m:\u001b[0m\u001b[1;33m\u001b[0m\u001b[1;33m\u001b[0m\u001b[0m\n\u001b[0;32m      2\u001b[0m     \u001b[1;32mfor\u001b[0m \u001b[0mi\u001b[0m \u001b[1;32min\u001b[0m \u001b[0mrange\u001b[0m\u001b[1;33m(\u001b[0m\u001b[0mn_line\u001b[0m\u001b[1;33m)\u001b[0m\u001b[1;33m:\u001b[0m\u001b[1;33m\u001b[0m\u001b[1;33m\u001b[0m\u001b[0m\n\u001b[1;32m----> 3\u001b[1;33m         \u001b[0mexpr\u001b[0m \u001b[1;33m=\u001b[0m \u001b[0msum\u001b[0m\u001b[1;33m(\u001b[0m\u001b[0mHg\u001b[0m\u001b[1;33m[\u001b[0m\u001b[0mi\u001b[0m\u001b[1;33m,\u001b[0m \u001b[0mj\u001b[0m\u001b[1;33m]\u001b[0m \u001b[1;33m*\u001b[0m \u001b[0mp\u001b[0m\u001b[1;33m[\u001b[0m\u001b[0mj\u001b[0m\u001b[1;33m,\u001b[0m \u001b[0mt\u001b[0m\u001b[1;33m]\u001b[0m \u001b[1;32mfor\u001b[0m \u001b[0mj\u001b[0m \u001b[1;32min\u001b[0m \u001b[0mrange\u001b[0m\u001b[1;33m(\u001b[0m\u001b[0mn_g\u001b[0m\u001b[1;33m)\u001b[0m\u001b[1;33m)\u001b[0m \u001b[1;33m-\u001b[0m \u001b[0msum\u001b[0m\u001b[1;33m(\u001b[0m\u001b[0mHl\u001b[0m\u001b[1;33m[\u001b[0m\u001b[0mi\u001b[0m\u001b[1;33m,\u001b[0m \u001b[0mj\u001b[0m\u001b[1;33m]\u001b[0m \u001b[1;33m*\u001b[0m \u001b[0md_vector\u001b[0m\u001b[1;33m[\u001b[0m\u001b[0mj\u001b[0m\u001b[1;33m]\u001b[0m \u001b[1;32mfor\u001b[0m \u001b[0mj\u001b[0m \u001b[1;32min\u001b[0m \u001b[0mrange\u001b[0m\u001b[1;33m(\u001b[0m\u001b[0mn_load\u001b[0m\u001b[1;33m)\u001b[0m\u001b[1;33m)\u001b[0m\u001b[1;33m\u001b[0m\u001b[1;33m\u001b[0m\u001b[0m\n\u001b[0m\u001b[0;32m      4\u001b[0m         \u001b[0mmodel\u001b[0m\u001b[1;33m.\u001b[0m\u001b[0maddConstr\u001b[0m\u001b[1;33m(\u001b[0m\u001b[0mexpr\u001b[0m \u001b[1;33m<=\u001b[0m \u001b[0mfmax\u001b[0m\u001b[1;33m.\u001b[0m\u001b[0miloc\u001b[0m\u001b[1;33m[\u001b[0m\u001b[0mi\u001b[0m\u001b[1;33m]\u001b[0m\u001b[1;33m.\u001b[0m\u001b[0mitem\u001b[0m\u001b[1;33m(\u001b[0m\u001b[1;33m)\u001b[0m\u001b[1;33m)\u001b[0m\u001b[1;33m\u001b[0m\u001b[1;33m\u001b[0m\u001b[0m\n",
      "\u001b[1;32m~\\AppData\\Local\\Temp/ipykernel_13252/1320604663.py\u001b[0m in \u001b[0;36m<genexpr>\u001b[1;34m(.0)\u001b[0m\n\u001b[0;32m      1\u001b[0m \u001b[1;32mfor\u001b[0m \u001b[0mt\u001b[0m \u001b[1;32min\u001b[0m \u001b[0mrange\u001b[0m\u001b[1;33m(\u001b[0m\u001b[0mn_t\u001b[0m\u001b[1;33m)\u001b[0m\u001b[1;33m:\u001b[0m\u001b[1;33m\u001b[0m\u001b[1;33m\u001b[0m\u001b[0m\n\u001b[0;32m      2\u001b[0m     \u001b[1;32mfor\u001b[0m \u001b[0mi\u001b[0m \u001b[1;32min\u001b[0m \u001b[0mrange\u001b[0m\u001b[1;33m(\u001b[0m\u001b[0mn_line\u001b[0m\u001b[1;33m)\u001b[0m\u001b[1;33m:\u001b[0m\u001b[1;33m\u001b[0m\u001b[1;33m\u001b[0m\u001b[0m\n\u001b[1;32m----> 3\u001b[1;33m         \u001b[0mexpr\u001b[0m \u001b[1;33m=\u001b[0m \u001b[0msum\u001b[0m\u001b[1;33m(\u001b[0m\u001b[0mHg\u001b[0m\u001b[1;33m[\u001b[0m\u001b[0mi\u001b[0m\u001b[1;33m,\u001b[0m \u001b[0mj\u001b[0m\u001b[1;33m]\u001b[0m \u001b[1;33m*\u001b[0m \u001b[0mp\u001b[0m\u001b[1;33m[\u001b[0m\u001b[0mj\u001b[0m\u001b[1;33m,\u001b[0m \u001b[0mt\u001b[0m\u001b[1;33m]\u001b[0m \u001b[1;32mfor\u001b[0m \u001b[0mj\u001b[0m \u001b[1;32min\u001b[0m \u001b[0mrange\u001b[0m\u001b[1;33m(\u001b[0m\u001b[0mn_g\u001b[0m\u001b[1;33m)\u001b[0m\u001b[1;33m)\u001b[0m \u001b[1;33m-\u001b[0m \u001b[0msum\u001b[0m\u001b[1;33m(\u001b[0m\u001b[0mHl\u001b[0m\u001b[1;33m[\u001b[0m\u001b[0mi\u001b[0m\u001b[1;33m,\u001b[0m \u001b[0mj\u001b[0m\u001b[1;33m]\u001b[0m \u001b[1;33m*\u001b[0m \u001b[0md_vector\u001b[0m\u001b[1;33m[\u001b[0m\u001b[0mj\u001b[0m\u001b[1;33m]\u001b[0m \u001b[1;32mfor\u001b[0m \u001b[0mj\u001b[0m \u001b[1;32min\u001b[0m \u001b[0mrange\u001b[0m\u001b[1;33m(\u001b[0m\u001b[0mn_load\u001b[0m\u001b[1;33m)\u001b[0m\u001b[1;33m)\u001b[0m\u001b[1;33m\u001b[0m\u001b[1;33m\u001b[0m\u001b[0m\n\u001b[0m\u001b[0;32m      4\u001b[0m         \u001b[0mmodel\u001b[0m\u001b[1;33m.\u001b[0m\u001b[0maddConstr\u001b[0m\u001b[1;33m(\u001b[0m\u001b[0mexpr\u001b[0m \u001b[1;33m<=\u001b[0m \u001b[0mfmax\u001b[0m\u001b[1;33m.\u001b[0m\u001b[0miloc\u001b[0m\u001b[1;33m[\u001b[0m\u001b[0mi\u001b[0m\u001b[1;33m]\u001b[0m\u001b[1;33m.\u001b[0m\u001b[0mitem\u001b[0m\u001b[1;33m(\u001b[0m\u001b[1;33m)\u001b[0m\u001b[1;33m)\u001b[0m\u001b[1;33m\u001b[0m\u001b[1;33m\u001b[0m\u001b[0m\n",
      "\u001b[1;31mNameError\u001b[0m: name 'd_vector' is not defined"
     ]
    }
   ],
   "source": [
    "for t in range(n_t):\n",
    "    for i in range(n_line):\n",
    "        expr = sum(Hg[i, j] * p[j, t] for j in range(n_g)) - sum(Hl[i, j] * d_vector[j] for j in range(n_load))\n",
    "        model.addConstr(expr <= fmax.iloc[i].item())"
   ]
  },
  {
   "cell_type": "code",
   "execution_count": 143,
   "id": "f208349b",
   "metadata": {},
   "outputs": [],
   "source": [
    "expr = sum(c_op.iloc[j].item() * p[j, t] for j in range(n_g) for t in range(n_t)) + sum(c_st.iloc[j].item() * u[j, t] for j in range(n_g) for t in range(n_t))\n",
    "model.setObjective(sense=grb.GRB.MINIMIZE, expr=expr)\n",
    "model.update()"
   ]
  },
  {
   "cell_type": "code",
   "execution_count": 144,
   "id": "f312990c",
   "metadata": {},
   "outputs": [
    {
     "name": "stdout",
     "output_type": "stream",
     "text": [
      "Gurobi Optimizer version 10.0.2 build v10.0.2rc0 (win64)\n",
      "\n",
      "CPU model: 11th Gen Intel(R) Core(TM) i5-1145G7 @ 2.60GHz, instruction set [SSE2|AVX|AVX2|AVX512]\n",
      "Thread count: 4 physical cores, 8 logical processors, using up to 8 threads\n",
      "\n",
      "Optimize a model with 18494 rows, 3936 columns and 246002 nonzeros\n",
      "Model fingerprint: 0x229f6d2c\n",
      "Variable types: 1344 continuous, 2592 integer (2592 binary)\n",
      "Coefficient statistics:\n",
      "  Matrix range     [5e-07, 4e+02]\n",
      "  Objective range  [8e+00, 4e+02]\n",
      "  Bounds range     [1e+00, 1e+00]\n",
      "  RHS range        [2e-01, 4e+03]\n",
      "Presolve removed 5797 rows and 78 columns\n",
      "Presolve time: 0.15s\n",
      "Presolved: 12697 rows, 3858 columns, 47626 nonzeros\n",
      "Variable types: 1320 continuous, 2538 integer (2538 binary)\n",
      "\n",
      "Root relaxation: objective 8.289218e+05, 1323 iterations, 0.08 seconds (0.06 work units)\n",
      "\n",
      "    Nodes    |    Current Node    |     Objective Bounds      |     Work\n",
      " Expl Unexpl |  Obj  Depth IntInf | Incumbent    BestBd   Gap | It/Node Time\n",
      "\n",
      "     0     0 828921.812    0   52          - 828921.812      -     -    0s\n",
      "H    0     0                    830073.19690 828921.812  0.14%     -    0s\n",
      "H    0     0                    829217.20327 828921.812  0.04%     -    0s\n",
      "H    0     0                    829100.59522 828979.887  0.01%     -    0s\n",
      "     0     0 828979.887    0   80 829100.595 828979.887  0.01%     -    0s\n",
      "H    0     0                    829067.50820 829015.488  0.01%     -    0s\n",
      "     0     0 829054.648    0   45 829067.508 829054.648  0.00%     -    0s\n",
      "\n",
      "Cutting planes:\n",
      "  Gomory: 1\n",
      "  MIR: 5\n",
      "  Flow cover: 21\n",
      "\n",
      "Explored 1 nodes (2316 simplex iterations) in 0.90 seconds (0.56 work units)\n",
      "Thread count was 8 (of 8 available processors)\n",
      "\n",
      "Solution count 4: 829068 829101 829217 830073 \n",
      "\n",
      "Optimal solution found (tolerance 1.00e-04)\n",
      "Best objective 8.290675082042e+05, best bound 8.290546478938e+05, gap 0.0016%\n"
     ]
    }
   ],
   "source": [
    "opt = model.optimize()"
   ]
  },
  {
   "cell_type": "code",
   "execution_count": 145,
   "id": "f8bbe38f",
   "metadata": {},
   "outputs": [
    {
     "ename": "AttributeError",
     "evalue": "'tupledict' object has no attribute 'x'",
     "output_type": "error",
     "traceback": [
      "\u001b[1;31m---------------------------------------------------------------------------\u001b[0m",
      "\u001b[1;31mAttributeError\u001b[0m                            Traceback (most recent call last)",
      "Cell \u001b[1;32mIn[145], line 3\u001b[0m\n\u001b[0;32m      1\u001b[0m \u001b[38;5;28;01mfor\u001b[39;00m t \u001b[38;5;129;01min\u001b[39;00m \u001b[38;5;28mrange\u001b[39m(\u001b[38;5;241m1\u001b[39m):\n\u001b[0;32m      2\u001b[0m     \u001b[38;5;28;01mfor\u001b[39;00m j \u001b[38;5;129;01min\u001b[39;00m \u001b[38;5;28mrange\u001b[39m(n_g):\n\u001b[1;32m----> 3\u001b[0m         \u001b[38;5;28mprint\u001b[39m(p\u001b[38;5;241m.\u001b[39mx)\n",
      "\u001b[1;31mAttributeError\u001b[0m: 'tupledict' object has no attribute 'x'"
     ]
    }
   ],
   "source": [
    "for t in range(1):\n",
    "    for j in range(n_g):\n",
    "        print(p.x)"
   ]
  },
  {
   "cell_type": "code",
   "execution_count": null,
   "id": "696441ab",
   "metadata": {},
   "outputs": [],
   "source": []
  },
  {
   "cell_type": "code",
   "execution_count": null,
   "id": "a16bc5d9",
   "metadata": {},
   "outputs": [],
   "source": []
  }
 ],
 "metadata": {
  "kernelspec": {
   "display_name": "Python 3 (ipykernel)",
   "language": "python",
   "name": "python3"
  },
  "language_info": {
   "codemirror_mode": {
    "name": "ipython",
    "version": 3
   },
   "file_extension": ".py",
   "mimetype": "text/x-python",
   "name": "python",
   "nbconvert_exporter": "python",
   "pygments_lexer": "ipython3",
   "version": "3.9.7"
  }
 },
 "nbformat": 4,
 "nbformat_minor": 5
}
