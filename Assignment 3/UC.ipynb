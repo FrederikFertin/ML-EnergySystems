{
 "cells": [
  {
   "cell_type": "code",
   "execution_count": 1,
   "id": "afea0309",
   "metadata": {},
   "outputs": [],
   "source": [
    "from collections import defaultdict\n",
    "import numpy as np\n",
    "import gurobipy as grb\n",
    "import pandas as pd"
   ]
  },
  {
   "cell_type": "code",
   "execution_count": 3,
   "id": "3c3a82c5",
   "metadata": {},
   "outputs": [],
   "source": [
    "pmax = pd.read_csv('./pgmax.csv')\n",
    "pmin = pd.read_csv('./pgmin.csv')\n",
    "ru = pd.read_csv('./ramp.csv')\n",
    "UT = pd.read_csv('./lu.csv')\n",
    "DT = pd.read_csv('./ld.csv')    \n",
    "demand = pd.read_csv('./Demand.csv')   \n",
    "c_op = pd.read_csv('./cost_op.csv') \n",
    "c_st = pd.read_csv('./cost_st.csv') \n",
    "PTDF = pd.read_csv('./PTDF.csv') \n",
    "busgen = pd.read_csv('./busgen.csv')\n",
    "busload = pd.read_csv('./busload.csv')\n",
    "fmax = pd.read_csv('./fmax.csv')\n",
    "\n",
    "\n",
    "PTDF = pd.DataFrame(PTDF)\n",
    "busgen = pd.DataFrame(busgen)\n",
    "busload = pd.DataFrame(busload)\n",
    "demand = pd.DataFrame(demand)\n",
    "\n",
    "\n",
    "# Convert the PTDF and demand string elements to a matrix\n",
    "PTDF_matrix = np.vstack([list(map(float, row[0].split(';'))) for row in PTDF.values])\n",
    "busgen_matrix = np.vstack([list(map(float, row[0].split(';'))) for row in busgen.values])\n",
    "busload_matrix = np.vstack([list(map(float, row[0].split(';'))) for row in busload.values])\n",
    "demand = np.vstack([list(map(float, row[0].split(';'))) for row in demand.values])\n",
    "\n",
    "Hg = np.dot(PTDF_matrix, busgen_matrix)\n",
    "Hl = np.dot(PTDF_matrix, busload_matrix)\n",
    "\n"
   ]
  },
  {
   "cell_type": "code",
   "execution_count": 4,
   "id": "43a3758a",
   "metadata": {},
   "outputs": [
    {
     "name": "stdout",
     "output_type": "stream",
     "text": [
      "Set parameter Username\n",
      "Academic license - for non-commercial use only - expires 2024-04-07\n"
     ]
    }
   ],
   "source": [
    "model = grb.Model()"
   ]
  },
  {
   "cell_type": "code",
   "execution_count": 5,
   "id": "adf074b5",
   "metadata": {},
   "outputs": [],
   "source": [
    "n_g=54\n",
    "n_t=24\n",
    "n_load=91\n",
    "n_line=186\n",
    "# b denotes on/off status and u denotes start start-up status\n",
    "b = model.addVars(n_g, n_t, vtype=grb.GRB.BINARY)\n",
    "u = model.addVars(n_g, n_t, vtype=grb.GRB.BINARY)\n",
    "# how much to produce\n",
    "p = model.addVars(n_g, n_t, vtype=grb.GRB.CONTINUOUS)\n",
    "# slack variables\n",
    "ls = model.addVars(n_t, 1, vtype=grb.GRB.CONTINUOUS)\n",
    "ws = model.addVars(n_t, 1, vtype=grb.GRB.CONTINUOUS)\n",
    "model.update()"
   ]
  },
  {
   "cell_type": "code",
   "execution_count": 6,
   "id": "b9006351",
   "metadata": {},
   "outputs": [],
   "source": [
    "for t in range(n_t):\n",
    "    for j in range(n_g):\n",
    "        # Constraints limiting the production at each generator based on min/max and whether the gen is on.\n",
    "        model.addConstr(p[j,t] <= pmax.iloc[j].item() *b[j,t])\n",
    "        model.addConstr(p[j,t] >= pmin.iloc[j].item() *b[j,t])\n",
    "        if t >= 1:\n",
    "            # Ramp-up limit:\n",
    "            model.addConstr(p[j,t]- p[j,t-1] <= ru.iloc[j].item())\n",
    "            # Ramp-down limit:\n",
    "            model.addConstr(p[j,t-1]- p[j,t] <= ru.iloc[j].item())\n",
    "            # u[j,t] == 1 if the generator started in hour t.\n",
    "            model.addConstr(u[j,t] >= b[j,t]-b[j,t-1])"
   ]
  },
  {
   "cell_type": "code",
   "execution_count": 7,
   "id": "8e8c015d",
   "metadata": {},
   "outputs": [],
   "source": [
    "for t in range(n_t):\n",
    "    for j in range(n_g):\n",
    "        if t >= 1:\n",
    "            # The minimal number of hours each generator should run if started.\n",
    "            min_on_time = min(t + UT.iloc[j].item() - 1, n_t)\n",
    "            for tau in range(t, min_on_time):\n",
    "                model.addConstr(b[j, tau] >= b[j, t] - b[j, t - 1])\n",
    "            \n",
    "            # The minimal number of hours each generator should be off if stopped.\n",
    "            min_off_time = min(t + DT.iloc[j].item() - 1, n_t)\n",
    "            for tau in range(t, min_off_time):\n",
    "                model.addConstr(1 - b[j, tau] >= b[j, t - 1] - b[j, t])\n"
   ]
  },
  {
   "cell_type": "code",
   "execution_count": 8,
   "id": "b13b3c0c",
   "metadata": {},
   "outputs": [],
   "source": [
    "for t in range(n_t):\n",
    "    # The total production during each hour needs to match the total demand.\n",
    "    model.addConstr(sum(p[j,t] for j in range(n_g)) == sum(demand[t, i] for i in range(n_load)))\n",
    "model.update()"
   ]
  },
  {
   "cell_type": "code",
   "execution_count": 15,
   "id": "fd8d363f",
   "metadata": {},
   "outputs": [],
   "source": [
    "for t in range(n_t):\n",
    "    for i in range(n_line):\n",
    "        # The expression for the total load on each line in the network.\n",
    "        # Based on the positive flow added from the generators and the negative flow added from the loads.\n",
    "        expr = sum(Hg[i, j] * p[j, t] for j in range(n_g)) - sum(Hl[i, j] * demand[t,j] for j in range(n_load))\n",
    "        model.addConstr(expr <= fmax.iloc[i].item())"
   ]
  },
  {
   "cell_type": "code",
   "execution_count": 16,
   "id": "f208349b",
   "metadata": {},
   "outputs": [],
   "source": [
    "# The objective is to minimize the cost of power and start-up costs.\n",
    "expr = sum(c_op.iloc[j].item() * p[j, t] for j in range(n_g) for t in range(n_t)) +\\\n",
    "    sum(c_st.iloc[j].item() * u[j, t] for j in range(n_g) for t in range(n_t))\n",
    "model.setObjective(sense=grb.GRB.MINIMIZE, expr=expr)\n",
    "model.update()"
   ]
  },
  {
   "cell_type": "code",
   "execution_count": 17,
   "id": "f312990c",
   "metadata": {},
   "outputs": [
    {
     "name": "stdout",
     "output_type": "stream",
     "text": [
      "Gurobi Optimizer version 10.0.1 build v10.0.1rc0 (win64)\n",
      "\n",
      "CPU model: Intel(R) Core(TM) i5-1035G1 CPU @ 1.00GHz, instruction set [SSE2|AVX|AVX2|AVX512]\n",
      "Thread count: 4 physical cores, 8 logical processors, using up to 8 threads\n",
      "\n",
      "Optimize a model with 22958 rows, 3936 columns and 456986 nonzeros\n",
      "Model fingerprint: 0xaaaf0584\n",
      "Variable types: 1344 continuous, 2592 integer (2592 binary)\n",
      "Coefficient statistics:\n",
      "  Matrix range     [5e-07, 4e+02]\n",
      "  Objective range  [8e+00, 4e+02]\n",
      "  Bounds range     [1e+00, 1e+00]\n",
      "  RHS range        [2e-01, 4e+03]\n",
      "Presolve removed 10299 rows and 85 columns\n",
      "Presolve time: 0.25s\n",
      "Presolved: 12659 rows, 3851 columns, 46555 nonzeros\n",
      "Variable types: 1313 continuous, 2538 integer (2538 binary)\n",
      "Found heuristic solution: objective 964004.40700\n",
      "\n",
      "Root relaxation: objective 8.272913e+05, 1673 iterations, 0.08 seconds (0.05 work units)\n",
      "\n",
      "    Nodes    |    Current Node    |     Objective Bounds      |     Work\n",
      " Expl Unexpl |  Obj  Depth IntInf | Incumbent    BestBd   Gap | It/Node Time\n",
      "\n",
      "     0     0 827291.276    0   38 964004.407 827291.276  14.2%     -    0s\n",
      "H    0     0                    827305.81947 827291.276  0.00%     -    0s\n",
      "\n",
      "Explored 1 nodes (1908 simplex iterations) in 0.59 seconds (0.43 work units)\n",
      "Thread count was 8 (of 8 available processors)\n",
      "\n",
      "Solution count 2: 827306 964004 \n",
      "\n",
      "Optimal solution found (tolerance 1.00e-04)\n",
      "Best objective 8.273058194659e+05, best bound 8.272912761263e+05, gap 0.0018%\n"
     ]
    }
   ],
   "source": [
    "opt = model.optimize()"
   ]
  },
  {
   "cell_type": "code",
   "execution_count": 20,
   "id": "f8bbe38f",
   "metadata": {},
   "outputs": [
    {
     "name": "stdout",
     "output_type": "stream",
     "text": [
      "0.0\n",
      "0.0\n",
      "0.0\n",
      "0.0\n",
      "207.80430000000024\n",
      "0.0\n",
      "0.0\n",
      "0.0\n",
      "0.0\n",
      "0.0\n",
      "350.0\n",
      "0.0\n",
      "0.0\n",
      "0.0\n",
      "0.0\n",
      "0.0\n",
      "0.0\n",
      "0.0\n",
      "0.0\n",
      "250.0\n",
      "250.0\n",
      "0.0\n",
      "0.0\n",
      "0.0\n",
      "0.0\n",
      "0.0\n",
      "420.0\n",
      "420.0\n",
      "80.0\n",
      "0.0\n",
      "0.0\n",
      "0.0\n",
      "0.0\n",
      "0.0\n",
      "0.0\n",
      "0.0\n",
      "0.0\n",
      "0.0\n",
      "300.0\n",
      "200.0\n",
      "0.0\n",
      "0.0\n",
      "0.0\n",
      "0.0\n",
      "100.0\n",
      "0.0\n",
      "0.0\n",
      "0.0\n",
      "0.0\n",
      "0.0\n",
      "0.0\n",
      "0.0\n",
      "0.0\n",
      "0.0\n"
     ]
    }
   ],
   "source": [
    "for t in range(1):\n",
    "    for j in range(n_g):\n",
    "        print(p[j, t].x)"
   ]
  },
  {
   "cell_type": "code",
   "execution_count": null,
   "id": "696441ab",
   "metadata": {},
   "outputs": [],
   "source": []
  },
  {
   "cell_type": "code",
   "execution_count": null,
   "id": "a16bc5d9",
   "metadata": {},
   "outputs": [],
   "source": []
  }
 ],
 "metadata": {
  "kernelspec": {
   "display_name": "Python 3 (ipykernel)",
   "language": "python",
   "name": "python3"
  },
  "language_info": {
   "codemirror_mode": {
    "name": "ipython",
    "version": 3
   },
   "file_extension": ".py",
   "mimetype": "text/x-python",
   "name": "python",
   "nbconvert_exporter": "python",
   "pygments_lexer": "ipython3",
   "version": "3.9.7"
  }
 },
 "nbformat": 4,
 "nbformat_minor": 5
}
